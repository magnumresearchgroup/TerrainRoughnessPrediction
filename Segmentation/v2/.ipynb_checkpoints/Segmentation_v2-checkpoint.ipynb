{
 "cells": [
  {
   "cell_type": "markdown",
   "metadata": {
    "id": "V1mxaK_R9wNa"
   },
   "source": [
    "# Path Segmentation"
   ]
  },
  {
   "cell_type": "markdown",
   "metadata": {
    "id": "BSwj7AmeALgE"
   },
   "source": [
    "## Set-up"
   ]
  },
  {
   "cell_type": "code",
   "execution_count": null,
   "metadata": {
    "id": "1q4520DgZFb3"
   },
   "outputs": [],
   "source": [
    "!pip install wandb"
   ]
  },
  {
   "cell_type": "code",
   "execution_count": null,
   "metadata": {
    "id": "LYmWl--uM6e0"
   },
   "outputs": [],
   "source": [
    "!pip install \"torch==1.4\" \"torchvision==0.5.0\""
   ]
  },
  {
   "cell_type": "code",
   "execution_count": null,
   "metadata": {
    "id": "_214yu7C9uhM"
   },
   "outputs": [],
   "source": [
    "from google.colab import drive\n",
    "drive.mount('/gdrive')"
   ]
  },
  {
   "cell_type": "code",
   "execution_count": null,
   "metadata": {
    "id": "B_qwXpKE9yua"
   },
   "outputs": [],
   "source": [
    "import os\n",
    "import numpy as np\n",
    "import matplotlib.pyplot as plt\n",
    "from fastai.vision import *"
   ]
  },
  {
   "cell_type": "code",
   "execution_count": null,
   "metadata": {
    "colab": {
     "base_uri": "https://localhost:8080/",
     "height": 616
    },
    "executionInfo": {
     "elapsed": 3664,
     "status": "ok",
     "timestamp": 1608751119554,
     "user": {
      "displayName": "Gabriela Gresenz",
      "photoUrl": "",
      "userId": "05645304405077482447"
     },
     "user_tz": 300
    },
    "id": "ZaBqBZCgZIsE",
    "outputId": "a30b4554-c01a-490c-c242-f33566c2d97f"
   },
   "outputs": [
    {
     "data": {
      "application/javascript": [
       "\n",
       "        window._wandbApiKey = new Promise((resolve, reject) => {\n",
       "            function loadScript(url) {\n",
       "            return new Promise(function(resolve, reject) {\n",
       "                let newScript = document.createElement(\"script\");\n",
       "                newScript.onerror = reject;\n",
       "                newScript.onload = resolve;\n",
       "                document.body.appendChild(newScript);\n",
       "                newScript.src = url;\n",
       "            });\n",
       "            }\n",
       "            loadScript(\"https://cdn.jsdelivr.net/npm/postmate/build/postmate.min.js\").then(() => {\n",
       "            const iframe = document.createElement('iframe')\n",
       "            iframe.style.cssText = \"width:0;height:0;border:none\"\n",
       "            document.body.appendChild(iframe)\n",
       "            const handshake = new Postmate({\n",
       "                container: iframe,\n",
       "                url: 'https://wandb.ai/authorize'\n",
       "            });\n",
       "            const timeout = setTimeout(() => reject(\"Couldn't auto authenticate\"), 5000)\n",
       "            handshake.then(function(child) {\n",
       "                child.on('authorize', data => {\n",
       "                    clearTimeout(timeout)\n",
       "                    resolve(data)\n",
       "                });\n",
       "            });\n",
       "            })\n",
       "        });\n",
       "    "
      ],
      "text/plain": [
       "<IPython.core.display.Javascript object>"
      ]
     },
     "metadata": {
      "tags": []
     },
     "output_type": "display_data"
    },
    {
     "name": "stderr",
     "output_type": "stream",
     "text": [
      "\u001b[34m\u001b[1mwandb\u001b[0m: Appending key for api.wandb.ai to your netrc file: /root/.netrc\n"
     ]
    },
    {
     "data": {
      "text/html": [
       "\n",
       "                Tracking run with wandb version 0.10.12<br/>\n",
       "                Syncing run <strong style=\"color:#cdcd00\">clean-sun-4</strong> to <a href=\"https://wandb.ai\" target=\"_blank\">Weights & Biases</a> <a href=\"https://docs.wandb.com/integrations/jupyter.html\" target=\"_blank\">(Documentation)</a>.<br/>\n",
       "                Project page: <a href=\"https://wandb.ai/gabrielag/path-segmentation\" target=\"_blank\">https://wandb.ai/gabrielag/path-segmentation</a><br/>\n",
       "                Run page: <a href=\"https://wandb.ai/gabrielag/path-segmentation/runs/2di23rq2\" target=\"_blank\">https://wandb.ai/gabrielag/path-segmentation/runs/2di23rq2</a><br/>\n",
       "                Run data is saved locally in <code>/content/wandb/run-20201223_191838-2di23rq2</code><br/><br/>\n",
       "            "
      ],
      "text/plain": [
       "<IPython.core.display.HTML object>"
      ]
     },
     "metadata": {
      "tags": []
     },
     "output_type": "display_data"
    },
    {
     "data": {
      "text/html": [
       "<h1>Run(2di23rq2)</h1><p></p><iframe src=\"https://wandb.ai/gabrielag/path-segmentation/runs/2di23rq2\" style=\"border:none;width:100%;height:400px\"></iframe>"
      ],
      "text/plain": [
       "<wandb.sdk.wandb_run.Run at 0x7f74b8fa36d8>"
      ]
     },
     "execution_count": 5,
     "metadata": {
      "tags": []
     },
     "output_type": "execute_result"
    }
   ],
   "source": [
    "import wandb\n",
    "from wandb.fastai import WandbCallback\n",
    "\n",
    "wandb.init(project='path-segmentation')"
   ]
  },
  {
   "cell_type": "code",
   "execution_count": null,
   "metadata": {
    "id": "rkiAslPq_0Cb"
   },
   "outputs": [],
   "source": [
    "%reload_ext autoreload\n",
    "%autoreload 2\n",
    "%matplotlib inline"
   ]
  },
  {
   "cell_type": "markdown",
   "metadata": {
    "id": "CiM96do8ANJY"
   },
   "source": [
    "## Model"
   ]
  },
  {
   "cell_type": "code",
   "execution_count": null,
   "metadata": {
    "id": "mHRk1dg59_4M"
   },
   "outputs": [],
   "source": [
    "path = '/gdrive/My Drive/Labeling/Segmentation'\n",
    "image_path = os.path.join(path, 'Data', 'Original')\n",
    "mask_path = os.path.join(path, 'Data', 'EnumMasks', 'png_0_1')\n",
    "\n",
    "get_image_label = lambda x: os.path.join(mask_path, f'{x.stem}_P.png')"
   ]
  },
  {
   "cell_type": "code",
   "execution_count": null,
   "metadata": {
    "colab": {
     "base_uri": "https://localhost:8080/"
    },
    "executionInfo": {
     "elapsed": 1665,
     "status": "ok",
     "timestamp": 1608759466037,
     "user": {
      "displayName": "Gabriela Gresenz",
      "photoUrl": "",
      "userId": "05645304405077482447"
     },
     "user_tz": 300
    },
    "id": "ABqUnQ8AaIwV",
    "outputId": "1d8be205-1304-4eb8-ee8c-f58d14399b63"
   },
   "outputs": [
    {
     "name": "stdout",
     "output_type": "stream",
     "text": [
      "187 63\n"
     ]
    }
   ],
   "source": [
    "train_images = np.loadtxt(os.path.join(path, 'v2', 'train.txt'), dtype=str)\n",
    "test_images = np.loadtxt(os.path.join(path, 'v2', 'test.txt'), dtype=str)\n",
    "print(len(train_images), len(test_images))"
   ]
  },
  {
   "cell_type": "markdown",
   "metadata": {
    "id": "F9MgvsanFDk2"
   },
   "source": [
    "#### Get data"
   ]
  },
  {
   "cell_type": "code",
   "execution_count": null,
   "metadata": {
    "colab": {
     "base_uri": "https://localhost:8080/"
    },
    "executionInfo": {
     "elapsed": 4606,
     "status": "ok",
     "timestamp": 1608759470318,
     "user": {
      "displayName": "Gabriela Gresenz",
      "photoUrl": "",
      "userId": "05645304405077482447"
     },
     "user_tz": 300
    },
    "id": "R0vfCtscFJ6W",
    "outputId": "de82a29f-6027-4f42-ba5b-468652292680"
   },
   "outputs": [
    {
     "data": {
      "text/plain": [
       "array(['Path,', 'Other'], dtype='<U5')"
      ]
     },
     "execution_count": 6,
     "metadata": {
      "tags": []
     },
     "output_type": "execute_result"
    }
   ],
   "source": [
    "# Image size\n",
    "img_f = get_image_files(image_path)[0]\n",
    "mask = open_mask(get_image_label(img_f))\n",
    "src_size = np.array(mask.shape[1:])\n",
    "size = src_size//2\n",
    "\n",
    "# Batch size\n",
    "bs = 1\n",
    "\n",
    "# Class names\n",
    "codes = np.loadtxt(os.path.join(path, 'codes.txt'), dtype=str)\n",
    "codes"
   ]
  },
  {
   "cell_type": "code",
   "execution_count": null,
   "metadata": {
    "id": "Oo3qN3e0GV3Z"
   },
   "outputs": [],
   "source": [
    "np.random.seed(42)\n",
    "data = (SegmentationItemList\n",
    "        .from_folder(image_path)\n",
    "        .filter_by_func(lambda fname: os.path.split(fname)[1] in train_images)\n",
    "        .split_by_rand_pct(0.2)\n",
    "        .label_from_func(get_image_label, classes=codes)\n",
    "        .transform(get_transforms(do_flip=False), size=size, tfm_y=True)\n",
    "        .databunch(bs=bs)\n",
    "        .normalize(imagenet_stats))"
   ]
  },
  {
   "cell_type": "code",
   "execution_count": null,
   "metadata": {
    "colab": {
     "base_uri": "https://localhost:8080/"
    },
    "executionInfo": {
     "elapsed": 4275,
     "status": "ok",
     "timestamp": 1608759474621,
     "user": {
      "displayName": "Gabriela Gresenz",
      "photoUrl": "",
      "userId": "05645304405077482447"
     },
     "user_tz": 300
    },
    "id": "ZnVp0H9bwqsR",
    "outputId": "ae455d57-f5ad-4179-ff2b-1815b0238c10"
   },
   "outputs": [
    {
     "name": "stdout",
     "output_type": "stream",
     "text": [
      "150 150\n",
      "37 37\n"
     ]
    }
   ],
   "source": [
    "train_x = data.train_ds.x\n",
    "train_y = data.train_ds.y\n",
    "valid_x = data.valid_ds.x\n",
    "valid_y = data.valid_ds.y\n",
    "\n",
    "print(len(train_x), len(train_y))\n",
    "print(len(valid_x), len(valid_y))"
   ]
  },
  {
   "cell_type": "code",
   "execution_count": null,
   "metadata": {
    "colab": {
     "base_uri": "https://localhost:8080/",
     "height": 221
    },
    "executionInfo": {
     "elapsed": 7233,
     "status": "ok",
     "timestamp": 1608758072063,
     "user": {
      "displayName": "Gabriela Gresenz",
      "photoUrl": "",
      "userId": "05645304405077482447"
     },
     "user_tz": 300
    },
    "id": "RNDhACO9HWj_",
    "outputId": "1f5f0248-9a59-4d0c-976d-b93c4c290325"
   },
   "outputs": [
    {
     "data": {
      "image/png": "[encoded data removed]",
      "text/plain": [
       "<Figure size 360x360 with 1 Axes>"
      ]
     },
     "metadata": {
      "needs_background": "light",
      "tags": []
     },
     "output_type": "display_data"
    }
   ],
   "source": [
    "data.show_batch(figsize=(5,5))"
   ]
  },
  {
   "cell_type": "markdown",
   "metadata": {
    "id": "PJVBamwTo9D7"
   },
   "source": [
    "#### Learner"
   ]
  },
  {
   "cell_type": "code",
   "execution_count": null,
   "metadata": {
    "id": "j7lxug7kpTQ2"
   },
   "outputs": [],
   "source": [
    "wd=1e-2"
   ]
  },
  {
   "cell_type": "code",
   "execution_count": null,
   "metadata": {
    "id": "0467OndspZmS"
   },
   "outputs": [],
   "source": [
    "def acc_segmentation(input, target):\n",
    "  target = target.squeeze(1)\n",
    "  mask = target >= 0 # there is no code for 2 so this shouldn't do anything\n",
    "  return (input.argmax(dim=1)[mask]==target[mask]).float().mean()\n",
    "\n",
    "def dice_iou(input, target):\n",
    "  return dice(input, target, iou=True)\n",
    "\n",
    "metrics = [acc_segmentation, dice_iou]"
   ]
  },
  {
   "cell_type": "code",
   "execution_count": null,
   "metadata": {
    "colab": {
     "base_uri": "https://localhost:8080/",
     "height": 83,
     "referenced_widgets": [
      "5b643844b6d349febf7f03b7b66d2176",
      "f77a1bf5983740c3b399f2718a2e2a7e",
      "63eaf743ccf0427f8ced59d274d0e931",
      "db3ebdcae9a04b60a722a85dafc366ca",
      "953ea7d75dd84e0586958761f25ab667",
      "7ea722da14644633951097ad3eee8a63",
      "cfd66c80450e4544988c5f4bbc84045b",
      "5f4e15c0e2544132b5f4bf768968c940"
     ]
    },
    "executionInfo": {
     "elapsed": 44948,
     "status": "ok",
     "timestamp": 1608759523541,
     "user": {
      "displayName": "Gabriela Gresenz",
      "photoUrl": "",
      "userId": "05645304405077482447"
     },
     "user_tz": 300
    },
    "id": "w-S82CCWpdoT",
    "outputId": "478d4928-7892-4369-80b1-6e2d83d10270"
   },
   "outputs": [
    {
     "name": "stderr",
     "output_type": "stream",
     "text": [
      "Downloading: \"https://download.pytorch.org/models/resnet34-333f7ec4.pth\" to /root/.cache/torch/hub/checkpoints/resnet34-333f7ec4.pth\n"
     ]
    },
    {
     "data": {
      "application/vnd.jupyter.widget-view+json": {
       "model_id": "5b643844b6d349febf7f03b7b66d2176",
       "version_major": 2,
       "version_minor": 0
      },
      "text/plain": [
       "HBox(children=(FloatProgress(value=0.0, max=87306240.0), HTML(value='')))"
      ]
     },
     "metadata": {
      "tags": []
     },
     "output_type": "display_data"
    },
    {
     "name": "stdout",
     "output_type": "stream",
     "text": [
      "\n"
     ]
    }
   ],
   "source": [
    "learn = unet_learner(data, models.resnet34, metrics=metrics, wd=wd, callback_fns=WandbCallback)\n",
    "# learn = unet_learner(data, models.resnet34, metrics=metrics, wd=wd)"
   ]
  },
  {
   "cell_type": "code",
   "execution_count": null,
   "metadata": {
    "colab": {
     "base_uri": "https://localhost:8080/",
     "height": 132
    },
    "executionInfo": {
     "elapsed": 118978,
     "status": "ok",
     "timestamp": 1608747618853,
     "user": {
      "displayName": "Gabriela Gresenz",
      "photoUrl": "",
      "userId": "05645304405077482447"
     },
     "user_tz": 300
    },
    "id": "5D9A5vS6xOWZ",
    "outputId": "1956bd9c-9847-499b-e996-06e0d9519b36"
   },
   "outputs": [
    {
     "data": {
      "text/html": [
       "\n",
       "    <div>\n",
       "        <style>\n",
       "            /* Turns off some styling */\n",
       "            progress {\n",
       "                /* gets rid of default border in Firefox and Opera. */\n",
       "                border: none;\n",
       "                /* Needs to be in here for Safari polyfill so background images work as expected. */\n",
       "                background-size: auto;\n",
       "            }\n",
       "            .progress-bar-interrupted, .progress-bar-interrupted::-webkit-progress-bar {\n",
       "                background: #F44336;\n",
       "            }\n",
       "        </style>\n",
       "      <progress value='0' class='' max='1' style='width:300px; height:20px; vertical-align: middle;'></progress>\n",
       "      0.00% [0/1 00:00<00:00]\n",
       "    </div>\n",
       "    \n",
       "<table border=\"1\" class=\"dataframe\">\n",
       "  <thead>\n",
       "    <tr style=\"text-align: left;\">\n",
       "      <th>epoch</th>\n",
       "      <th>train_loss</th>\n",
       "      <th>valid_loss</th>\n",
       "      <th>acc_segmentation</th>\n",
       "      <th>dice_iou</th>\n",
       "      <th>time</th>\n",
       "    </tr>\n",
       "  </thead>\n",
       "  <tbody>\n",
       "  </tbody>\n",
       "</table><p>\n",
       "\n",
       "    <div>\n",
       "        <style>\n",
       "            /* Turns off some styling */\n",
       "            progress {\n",
       "                /* gets rid of default border in Firefox and Opera. */\n",
       "                border: none;\n",
       "                /* Needs to be in here for Safari polyfill so background images work as expected. */\n",
       "                background-size: auto;\n",
       "            }\n",
       "            .progress-bar-interrupted, .progress-bar-interrupted::-webkit-progress-bar {\n",
       "                background: #F44336;\n",
       "            }\n",
       "        </style>\n",
       "      <progress value='66' class='' max='150' style='width:300px; height:20px; vertical-align: middle;'></progress>\n",
       "      44.00% [66/150 01:51<02:22 0.4054]\n",
       "    </div>\n",
       "    "
      ],
      "text/plain": [
       "<IPython.core.display.HTML object>"
      ]
     },
     "metadata": {
      "tags": []
     },
     "output_type": "display_data"
    },
    {
     "name": "stdout",
     "output_type": "stream",
     "text": [
      "LR Finder is complete, type {learner_name}.recorder.plot() to see the graph.\n"
     ]
    }
   ],
   "source": [
    "learn.lr_find()"
   ]
  },
  {
   "cell_type": "code",
   "execution_count": null,
   "metadata": {
    "colab": {
     "base_uri": "https://localhost:8080/",
     "height": 279
    },
    "executionInfo": {
     "elapsed": 855,
     "status": "ok",
     "timestamp": 1608747622700,
     "user": {
      "displayName": "Gabriela Gresenz",
      "photoUrl": "",
      "userId": "05645304405077482447"
     },
     "user_tz": 300
    },
    "id": "cI9tL4ZUxUBx",
    "outputId": "f02bd8de-ca25-4fde-92c7-1984ac091cbe"
   },
   "outputs": [
    {
     "data": {
      "image/png": "[encoded data removed]",
      "text/plain": [
       "<Figure size 432x288 with 1 Axes>"
      ]
     },
     "metadata": {
      "needs_background": "light",
      "tags": []
     },
     "output_type": "display_data"
    }
   ],
   "source": [
    "learn.recorder.plot()"
   ]
  },
  {
   "cell_type": "code",
   "execution_count": null,
   "metadata": {
    "id": "rRdBrj2Jpfkn"
   },
   "outputs": [],
   "source": [
    "lr=1e-4"
   ]
  },
  {
   "cell_type": "code",
   "execution_count": null,
   "metadata": {
    "colab": {
     "base_uri": "https://localhost:8080/",
     "height": 261
    },
    "executionInfo": {
     "elapsed": 997885,
     "status": "ok",
     "timestamp": 1608748683407,
     "user": {
      "displayName": "Gabriela Gresenz",
      "photoUrl": "",
      "userId": "05645304405077482447"
     },
     "user_tz": 300
    },
    "id": "iFpeWTOUpgrH",
    "outputId": "a1d9c502-6316-435d-b147-36766532aad0"
   },
   "outputs": [
    {
     "data": {
      "text/html": [
       "<table border=\"1\" class=\"dataframe\">\n",
       "  <thead>\n",
       "    <tr style=\"text-align: left;\">\n",
       "      <th>epoch</th>\n",
       "      <th>train_loss</th>\n",
       "      <th>valid_loss</th>\n",
       "      <th>acc_segmentation</th>\n",
       "      <th>dice_iou</th>\n",
       "      <th>time</th>\n",
       "    </tr>\n",
       "  </thead>\n",
       "  <tbody>\n",
       "    <tr>\n",
       "      <td>0</td>\n",
       "      <td>0.146106</td>\n",
       "      <td>0.095566</td>\n",
       "      <td>0.960596</td>\n",
       "      <td>0.959987</td>\n",
       "      <td>04:14</td>\n",
       "    </tr>\n",
       "    <tr>\n",
       "      <td>1</td>\n",
       "      <td>0.094316</td>\n",
       "      <td>0.075791</td>\n",
       "      <td>0.966739</td>\n",
       "      <td>0.964899</td>\n",
       "      <td>04:07</td>\n",
       "    </tr>\n",
       "    <tr>\n",
       "      <td>2</td>\n",
       "      <td>0.099070</td>\n",
       "      <td>0.098857</td>\n",
       "      <td>0.963394</td>\n",
       "      <td>0.962346</td>\n",
       "      <td>04:06</td>\n",
       "    </tr>\n",
       "    <tr>\n",
       "      <td>3</td>\n",
       "      <td>0.080761</td>\n",
       "      <td>0.066947</td>\n",
       "      <td>0.971375</td>\n",
       "      <td>0.969981</td>\n",
       "      <td>04:06</td>\n",
       "    </tr>\n",
       "  </tbody>\n",
       "</table>"
      ],
      "text/plain": [
       "<IPython.core.display.HTML object>"
      ]
     },
     "metadata": {
      "tags": []
     },
     "output_type": "display_data"
    },
    {
     "name": "stdout",
     "output_type": "stream",
     "text": [
      "Better model found at epoch 0 with valid_loss value: 0.09556572884321213.\n",
      "Better model found at epoch 1 with valid_loss value: 0.0757913812994957.\n",
      "Better model found at epoch 3 with valid_loss value: 0.06694719195365906.\n",
      "Loaded best saved model from /content/wandb/run-20201223_181510-3mpjbspz/files/bestmodel.pth\n"
     ]
    }
   ],
   "source": [
    "learn.fit_one_cycle(4, slice(lr), pct_start=0.9)"
   ]
  },
  {
   "cell_type": "code",
   "execution_count": null,
   "metadata": {
    "id": "h5-9E5pspjFZ"
   },
   "outputs": [],
   "source": [
    "learn.save(os.path.join(path, 'v2', 'v2-stage-1'))"
   ]
  },
  {
   "cell_type": "code",
   "execution_count": null,
   "metadata": {
    "colab": {
     "base_uri": "https://localhost:8080/",
     "height": 134
    },
    "executionInfo": {
     "elapsed": 248088,
     "status": "ok",
     "timestamp": 1608749001542,
     "user": {
      "displayName": "Gabriela Gresenz",
      "photoUrl": "",
      "userId": "05645304405077482447"
     },
     "user_tz": 300
    },
    "id": "jcZMuQZW5c1R",
    "outputId": "156e278a-0fa2-4d32-e6c6-f6852aa9f512"
   },
   "outputs": [
    {
     "data": {
      "text/html": [
       "<table border=\"1\" class=\"dataframe\">\n",
       "  <thead>\n",
       "    <tr style=\"text-align: left;\">\n",
       "      <th>epoch</th>\n",
       "      <th>train_loss</th>\n",
       "      <th>valid_loss</th>\n",
       "      <th>acc_segmentation</th>\n",
       "      <th>dice_iou</th>\n",
       "      <th>time</th>\n",
       "    </tr>\n",
       "  </thead>\n",
       "  <tbody>\n",
       "    <tr>\n",
       "      <td>0</td>\n",
       "      <td>0.065661</td>\n",
       "      <td>0.065964</td>\n",
       "      <td>0.970455</td>\n",
       "      <td>0.968696</td>\n",
       "      <td>04:06</td>\n",
       "    </tr>\n",
       "  </tbody>\n",
       "</table>"
      ],
      "text/plain": [
       "<IPython.core.display.HTML object>"
      ]
     },
     "metadata": {
      "tags": []
     },
     "output_type": "display_data"
    },
    {
     "name": "stdout",
     "output_type": "stream",
     "text": [
      "Better model found at epoch 0 with valid_loss value: 0.0659642219543457.\n",
      "Loaded best saved model from /content/wandb/run-20201223_181510-3mpjbspz/files/bestmodel.pth\n"
     ]
    }
   ],
   "source": [
    "learn.fit_one_cycle(1, slice(lr), pct_start=0.9)"
   ]
  },
  {
   "cell_type": "code",
   "execution_count": null,
   "metadata": {
    "id": "0DbUkCgW6c3w"
   },
   "outputs": [],
   "source": [
    "learn.save(os.path.join(path, 'v2', 'v2-stage-1'))"
   ]
  },
  {
   "cell_type": "code",
   "execution_count": null,
   "metadata": {
    "colab": {
     "base_uri": "https://localhost:8080/",
     "height": 134
    },
    "executionInfo": {
     "elapsed": 247432,
     "status": "ok",
     "timestamp": 1608749289913,
     "user": {
      "displayName": "Gabriela Gresenz",
      "photoUrl": "",
      "userId": "05645304405077482447"
     },
     "user_tz": 300
    },
    "id": "pUUEDj2-6j1Q",
    "outputId": "7356f878-d8d5-40c3-a9a0-f2e6dcb60e90"
   },
   "outputs": [
    {
     "data": {
      "text/html": [
       "<table border=\"1\" class=\"dataframe\">\n",
       "  <thead>\n",
       "    <tr style=\"text-align: left;\">\n",
       "      <th>epoch</th>\n",
       "      <th>train_loss</th>\n",
       "      <th>valid_loss</th>\n",
       "      <th>acc_segmentation</th>\n",
       "      <th>dice_iou</th>\n",
       "      <th>time</th>\n",
       "    </tr>\n",
       "  </thead>\n",
       "  <tbody>\n",
       "    <tr>\n",
       "      <td>0</td>\n",
       "      <td>0.069203</td>\n",
       "      <td>0.062401</td>\n",
       "      <td>0.974242</td>\n",
       "      <td>0.972936</td>\n",
       "      <td>04:05</td>\n",
       "    </tr>\n",
       "  </tbody>\n",
       "</table>"
      ],
      "text/plain": [
       "<IPython.core.display.HTML object>"
      ]
     },
     "metadata": {
      "tags": []
     },
     "output_type": "display_data"
    },
    {
     "name": "stdout",
     "output_type": "stream",
     "text": [
      "Better model found at epoch 0 with valid_loss value: 0.062401268631219864.\n",
      "Loaded best saved model from /content/wandb/run-20201223_181510-3mpjbspz/files/bestmodel.pth\n"
     ]
    }
   ],
   "source": [
    "learn.fit_one_cycle(1, slice(lr), pct_start=0.9)"
   ]
  },
  {
   "cell_type": "code",
   "execution_count": null,
   "metadata": {
    "id": "pp04EuoL7jNK"
   },
   "outputs": [],
   "source": [
    "learn.save(os.path.join(path, 'v2', 'v2-stage-1'))"
   ]
  },
  {
   "cell_type": "markdown",
   "metadata": {
    "id": "iCvHspLjx3wE"
   },
   "source": [
    "#### Fine-tune"
   ]
  },
  {
   "cell_type": "code",
   "execution_count": null,
   "metadata": {
    "id": "526pOQw6B9za"
   },
   "outputs": [],
   "source": [
    "learn.load(os.path.join(path, 'v2', 'v2-stage-1'))"
   ]
  },
  {
   "cell_type": "code",
   "execution_count": null,
   "metadata": {
    "id": "1wtIjBhDx5PG"
   },
   "outputs": [],
   "source": [
    "learn.unfreeze()"
   ]
  },
  {
   "cell_type": "code",
   "execution_count": null,
   "metadata": {
    "colab": {
     "base_uri": "https://localhost:8080/",
     "height": 132
    },
    "executionInfo": {
     "elapsed": 103086,
     "status": "ok",
     "timestamp": 1608751293946,
     "user": {
      "displayName": "Gabriela Gresenz",
      "photoUrl": "",
      "userId": "05645304405077482447"
     },
     "user_tz": 300
    },
    "id": "KPgaWS1cx6ER",
    "outputId": "900a9446-24fe-4e2d-e1bc-e13606722378"
   },
   "outputs": [
    {
     "data": {
      "text/html": [
       "\n",
       "    <div>\n",
       "        <style>\n",
       "            /* Turns off some styling */\n",
       "            progress {\n",
       "                /* gets rid of default border in Firefox and Opera. */\n",
       "                border: none;\n",
       "                /* Needs to be in here for Safari polyfill so background images work as expected. */\n",
       "                background-size: auto;\n",
       "            }\n",
       "            .progress-bar-interrupted, .progress-bar-interrupted::-webkit-progress-bar {\n",
       "                background: #F44336;\n",
       "            }\n",
       "        </style>\n",
       "      <progress value='0' class='' max='1' style='width:300px; height:20px; vertical-align: middle;'></progress>\n",
       "      0.00% [0/1 00:00<00:00]\n",
       "    </div>\n",
       "    \n",
       "<table border=\"1\" class=\"dataframe\">\n",
       "  <thead>\n",
       "    <tr style=\"text-align: left;\">\n",
       "      <th>epoch</th>\n",
       "      <th>train_loss</th>\n",
       "      <th>valid_loss</th>\n",
       "      <th>acc_segmentation</th>\n",
       "      <th>dice_iou</th>\n",
       "      <th>time</th>\n",
       "    </tr>\n",
       "  </thead>\n",
       "  <tbody>\n",
       "  </tbody>\n",
       "</table><p>\n",
       "\n",
       "    <div>\n",
       "        <style>\n",
       "            /* Turns off some styling */\n",
       "            progress {\n",
       "                /* gets rid of default border in Firefox and Opera. */\n",
       "                border: none;\n",
       "                /* Needs to be in here for Safari polyfill so background images work as expected. */\n",
       "                background-size: auto;\n",
       "            }\n",
       "            .progress-bar-interrupted, .progress-bar-interrupted::-webkit-progress-bar {\n",
       "                background: #F44336;\n",
       "            }\n",
       "        </style>\n",
       "      <progress value='54' class='' max='150' style='width:300px; height:20px; vertical-align: middle;'></progress>\n",
       "      36.00% [54/150 01:38<02:55 0.0853]\n",
       "    </div>\n",
       "    "
      ],
      "text/plain": [
       "<IPython.core.display.HTML object>"
      ]
     },
     "metadata": {
      "tags": []
     },
     "output_type": "display_data"
    },
    {
     "name": "stdout",
     "output_type": "stream",
     "text": [
      "LR Finder is complete, type {learner_name}.recorder.plot() to see the graph.\n"
     ]
    }
   ],
   "source": [
    "learn.lr_find()"
   ]
  },
  {
   "cell_type": "code",
   "execution_count": null,
   "metadata": {
    "colab": {
     "base_uri": "https://localhost:8080/",
     "height": 279
    },
    "executionInfo": {
     "elapsed": 898,
     "status": "ok",
     "timestamp": 1608751294864,
     "user": {
      "displayName": "Gabriela Gresenz",
      "photoUrl": "",
      "userId": "05645304405077482447"
     },
     "user_tz": 300
    },
    "id": "CzlUzjCox6uE",
    "outputId": "88063432-708e-4456-ce8d-44ff8c5c5b93"
   },
   "outputs": [
    {
     "data": {
      "image/png": "[encoded data removed]",
      "text/plain": [
       "<Figure size 432x288 with 1 Axes>"
      ]
     },
     "metadata": {
      "needs_background": "light",
      "tags": []
     },
     "output_type": "display_data"
    }
   ],
   "source": [
    "learn.recorder.plot()"
   ]
  },
  {
   "cell_type": "code",
   "execution_count": null,
   "metadata": {
    "colab": {
     "base_uri": "https://localhost:8080/",
     "height": 419
    },
    "executionInfo": {
     "elapsed": 2109745,
     "status": "ok",
     "timestamp": 1608753510265,
     "user": {
      "displayName": "Gabriela Gresenz",
      "photoUrl": "",
      "userId": "05645304405077482447"
     },
     "user_tz": 300
    },
    "id": "nIa3Nuc51pvz",
    "outputId": "f28f630a-51f7-495e-a842-dc09df881b64"
   },
   "outputs": [
    {
     "data": {
      "text/html": [
       "<table border=\"1\" class=\"dataframe\">\n",
       "  <thead>\n",
       "    <tr style=\"text-align: left;\">\n",
       "      <th>epoch</th>\n",
       "      <th>train_loss</th>\n",
       "      <th>valid_loss</th>\n",
       "      <th>acc_segmentation</th>\n",
       "      <th>dice_iou</th>\n",
       "      <th>time</th>\n",
       "    </tr>\n",
       "  </thead>\n",
       "  <tbody>\n",
       "    <tr>\n",
       "      <td>0</td>\n",
       "      <td>0.071391</td>\n",
       "      <td>0.060242</td>\n",
       "      <td>0.973922</td>\n",
       "      <td>0.972511</td>\n",
       "      <td>04:24</td>\n",
       "    </tr>\n",
       "    <tr>\n",
       "      <td>1</td>\n",
       "      <td>0.066020</td>\n",
       "      <td>0.059247</td>\n",
       "      <td>0.973778</td>\n",
       "      <td>0.972323</td>\n",
       "      <td>04:23</td>\n",
       "    </tr>\n",
       "    <tr>\n",
       "      <td>2</td>\n",
       "      <td>0.070156</td>\n",
       "      <td>0.058764</td>\n",
       "      <td>0.974202</td>\n",
       "      <td>0.972844</td>\n",
       "      <td>04:22</td>\n",
       "    </tr>\n",
       "    <tr>\n",
       "      <td>3</td>\n",
       "      <td>0.059778</td>\n",
       "      <td>0.059535</td>\n",
       "      <td>0.974558</td>\n",
       "      <td>0.973208</td>\n",
       "      <td>04:22</td>\n",
       "    </tr>\n",
       "    <tr>\n",
       "      <td>4</td>\n",
       "      <td>0.062903</td>\n",
       "      <td>0.059637</td>\n",
       "      <td>0.974379</td>\n",
       "      <td>0.972891</td>\n",
       "      <td>04:22</td>\n",
       "    </tr>\n",
       "    <tr>\n",
       "      <td>5</td>\n",
       "      <td>0.059402</td>\n",
       "      <td>0.057989</td>\n",
       "      <td>0.975082</td>\n",
       "      <td>0.973615</td>\n",
       "      <td>04:22</td>\n",
       "    </tr>\n",
       "    <tr>\n",
       "      <td>6</td>\n",
       "      <td>0.058533</td>\n",
       "      <td>0.057646</td>\n",
       "      <td>0.975292</td>\n",
       "      <td>0.973988</td>\n",
       "      <td>04:22</td>\n",
       "    </tr>\n",
       "    <tr>\n",
       "      <td>7</td>\n",
       "      <td>0.053670</td>\n",
       "      <td>0.058657</td>\n",
       "      <td>0.975745</td>\n",
       "      <td>0.974463</td>\n",
       "      <td>04:22</td>\n",
       "    </tr>\n",
       "  </tbody>\n",
       "</table>"
      ],
      "text/plain": [
       "<IPython.core.display.HTML object>"
      ]
     },
     "metadata": {
      "tags": []
     },
     "output_type": "display_data"
    },
    {
     "name": "stdout",
     "output_type": "stream",
     "text": [
      "Better model found at epoch 0 with valid_loss value: 0.06024162098765373.\n",
      "Better model found at epoch 1 with valid_loss value: 0.05924735218286514.\n",
      "Better model found at epoch 2 with valid_loss value: 0.05876411497592926.\n",
      "Better model found at epoch 5 with valid_loss value: 0.05798904970288277.\n",
      "Better model found at epoch 6 with valid_loss value: 0.057645875960588455.\n",
      "Loaded best saved model from /content/wandb/run-20201223_191838-2di23rq2/files/bestmodel.pth\n"
     ]
    }
   ],
   "source": [
    "learn.fit_one_cycle(8, slice(lr/1000, lr/10), pct_start=0.8)"
   ]
  },
  {
   "cell_type": "code",
   "execution_count": null,
   "metadata": {
    "id": "ApqCoBrQ2RjO"
   },
   "outputs": [],
   "source": [
    "learn.save(os.path.join(path, 'v2', 'v2-stage-2'))"
   ]
  },
  {
   "cell_type": "code",
   "execution_count": null,
   "metadata": {
    "colab": {
     "base_uri": "https://localhost:8080/",
     "height": 238
    },
    "executionInfo": {
     "elapsed": 3354,
     "status": "ok",
     "timestamp": 1608753528115,
     "user": {
      "displayName": "Gabriela Gresenz",
      "photoUrl": "",
      "userId": "05645304405077482447"
     },
     "user_tz": 300
    },
    "id": "4UQWRF_ty8pU",
    "outputId": "652e32e9-94aa-488a-9bab-9ac6031203f5"
   },
   "outputs": [
    {
     "data": {
      "image/png": "[encoded data removed]",
      "text/plain": [
       "<Figure size 360x360 with 2 Axes>"
      ]
     },
     "metadata": {
      "needs_background": "light",
      "tags": []
     },
     "output_type": "display_data"
    }
   ],
   "source": [
    "learn.show_results(rows=1, figsize=(5, 5))"
   ]
  },
  {
   "cell_type": "markdown",
   "metadata": {
    "id": "LZPe2usnNfo3"
   },
   "source": [
    "## Evaluate on the test set"
   ]
  },
  {
   "cell_type": "code",
   "execution_count": null,
   "metadata": {
    "id": "jgUkES8bcDlZ"
   },
   "outputs": [],
   "source": [
    "learn.load(os.path.join(path, 'v2', 'v2-stage-2'))"
   ]
  },
  {
   "cell_type": "code",
   "execution_count": null,
   "metadata": {
    "id": "wMDGMMzDaSOf"
   },
   "outputs": [],
   "source": [
    "pred_path = os.path.join(path, 'Data', 'Predictions')"
   ]
  },
  {
   "cell_type": "markdown",
   "metadata": {
    "id": "K5NC-eNbdhjp"
   },
   "source": [
    "#### Make and save predictions on the test set"
   ]
  },
  {
   "cell_type": "code",
   "execution_count": null,
   "metadata": {
    "colab": {
     "base_uri": "https://localhost:8080/"
    },
    "executionInfo": {
     "elapsed": 103332,
     "status": "ok",
     "timestamp": 1608758278143,
     "user": {
      "displayName": "Gabriela Gresenz",
      "photoUrl": "",
      "userId": "05645304405077482447"
     },
     "user_tz": 300
    },
    "id": "Exa1agKcQk75",
    "outputId": "928ae70e-b0b7-4f4a-e200-30c0d6d1a338"
   },
   "outputs": [
    {
     "name": "stdout",
     "output_type": "stream",
     "text": [
      "10 / 63\n",
      "20 / 63\n",
      "30 / 63\n",
      "40 / 63\n",
      "50 / 63\n",
      "60 / 63\n"
     ]
    }
   ],
   "source": [
    "count = 0\n",
    "for filename in test_images:\n",
    "  infile = os.path.join(image_path, filename)\n",
    "  if os.path.isdir(infile) or os.path.splitext(infile)[1] != '.jpg':\n",
    "    continue\n",
    "  \n",
    "  img = open_image(infile)\n",
    "  # img.resize(torch.Size([img.shape[0], 1080, 1920]))\n",
    "  mask_pred = learn.predict(img)\n",
    "\n",
    "  # These save as images with pixel values of 0 or 1, so unless you load as a\n",
    "  # fastai mask you will be unable to tell the difference\n",
    "  mask_pred[0].save(f'{pred_path}/{os.path.splitext(filename)[0]}_Pred.png')\n",
    "\n",
    "  count += 1\n",
    "  if count % 10 == 0:\n",
    "    print(count, '/', len(test_images))"
   ]
  },
  {
   "cell_type": "markdown",
   "metadata": {
    "id": "j4UIz06sdmfN"
   },
   "source": [
    "#### Visualize predictions on the test set"
   ]
  },
  {
   "cell_type": "code",
   "execution_count": null,
   "metadata": {
    "colab": {
     "base_uri": "https://localhost:8080/",
     "height": 1000,
     "output_embedded_package_id": "1V0tgWZNFftYufrPJPcKAfXq220tktiMj"
    },
    "executionInfo": {
     "elapsed": 240049,
     "status": "ok",
     "timestamp": 1608758520783,
     "user": {
      "displayName": "Gabriela Gresenz",
      "photoUrl": "",
      "userId": "05645304405077482447"
     },
     "user_tz": 300
    },
    "id": "sivosJgiRTlz",
    "outputId": "8470b0ee-d570-4272-a587-b6ed5a854147"
   },
   "outputs": [
    {
     "data": {
      "text/plain": [
       "Output hidden; open in https://colab.research.google.com to view."
      ]
     },
     "metadata": {},
     "output_type": "display_data"
    }
   ],
   "source": [
    "# count = 0\n",
    "for image in test_images:\n",
    "  _, axs = plt.subplots(1,3, figsize=(15,15))\n",
    "\n",
    "  i = open_image(os.path.join(image_path, image))\n",
    "  m = os.path.join(mask_path, os.path.splitext(image)[0] + '_P.png')\n",
    "  lbl_mask = open_mask(m)\n",
    "  p = os.path.join(pred_path, os.path.splitext(image)[0] + '_Pred.png')\n",
    "  pred_mask = open_mask(p)\n",
    "\n",
    "  i.show(ax=axs[0])\n",
    "  i.show(ax=axs[1], y=lbl_mask)\n",
    "  i.resize(torch.Size([img.shape[0], 1080, 1920]))\n",
    "  i.show(ax=axs[2], y=pred_mask)\n",
    "  plt.show()\n",
    "\n",
    "  # count += 1\n",
    "  # if count == 10:\n",
    "  #   break"
   ]
  },
  {
   "cell_type": "markdown",
   "metadata": {
    "id": "-1jI3HAidsBO"
   },
   "source": [
    "#### Evaluate metrics from predictions on the test set"
   ]
  },
  {
   "cell_type": "code",
   "execution_count": null,
   "metadata": {
    "colab": {
     "base_uri": "https://localhost:8080/"
    },
    "executionInfo": {
     "elapsed": 1502,
     "status": "ok",
     "timestamp": 1608759539307,
     "user": {
      "displayName": "Gabriela Gresenz",
      "photoUrl": "",
      "userId": "05645304405077482447"
     },
     "user_tz": 300
    },
    "id": "4NaiE8cZTnWl",
    "outputId": "128876f4-098e-4b44-cfb4-d094958c6162"
   },
   "outputs": [
    {
     "name": "stderr",
     "output_type": "stream",
     "text": [
      "/usr/local/lib/python3.6/dist-packages/fastai/data_block.py:458: UserWarning: Your training set is empty. If this is by design, pass `ignore_empty=True` to remove this warning.\n",
      "  warn(\"Your training set is empty. If this is by design, pass `ignore_empty=True` to remove this warning.\")\n"
     ]
    }
   ],
   "source": [
    "np.random.seed(42)\n",
    "data_test = (SegmentationItemList\n",
    "            .from_folder(image_path)\n",
    "            .filter_by_func(lambda fname: os.path.split(fname)[1] in test_images)\n",
    "            .split_by_rand_pct(1.0)\n",
    "            .label_from_func(get_image_label, classes=codes)\n",
    "            .transform(get_transforms(do_flip=False), size=size, tfm_y=True)\n",
    "            .databunch(bs=1)\n",
    "            .normalize(imagenet_stats))"
   ]
  },
  {
   "cell_type": "code",
   "execution_count": null,
   "metadata": {
    "id": "JLlTQFrqNj4k"
   },
   "outputs": [],
   "source": [
    "learn.data = data_test"
   ]
  },
  {
   "cell_type": "code",
   "execution_count": null,
   "metadata": {
    "colab": {
     "base_uri": "https://localhost:8080/",
     "height": 17
    },
    "executionInfo": {
     "elapsed": 49613,
     "status": "ok",
     "timestamp": 1608759589470,
     "user": {
      "displayName": "Gabriela Gresenz",
      "photoUrl": "",
      "userId": "05645304405077482447"
     },
     "user_tz": 300
    },
    "id": "lRBG3ozAYCh6",
    "outputId": "8fd34a3d-93b9-4f53-bc57-5427beacaf7e"
   },
   "outputs": [
    {
     "data": {
      "text/html": [],
      "text/plain": [
       "<IPython.core.display.HTML object>"
      ]
     },
     "metadata": {
      "tags": []
     },
     "output_type": "display_data"
    }
   ],
   "source": [
    "preds, ys = learn.get_preds(ds_type=DatasetType.Valid)"
   ]
  },
  {
   "cell_type": "code",
   "execution_count": null,
   "metadata": {
    "colab": {
     "base_uri": "https://localhost:8080/"
    },
    "executionInfo": {
     "elapsed": 35650,
     "status": "ok",
     "timestamp": 1608759633291,
     "user": {
      "displayName": "Gabriela Gresenz",
      "photoUrl": "",
      "userId": "05645304405077482447"
     },
     "user_tz": 300
    },
    "id": "3FkaQK0rZLF4",
    "outputId": "c952f73d-5f0a-4710-ada2-bdeef5a90f29"
   },
   "outputs": [
    {
     "data": {
      "text/plain": [
       "tensor(0.9696)"
      ]
     },
     "execution_count": 17,
     "metadata": {
      "tags": []
     },
     "output_type": "execute_result"
    }
   ],
   "source": [
    "acc_segmentation(preds, ys)"
   ]
  },
  {
   "cell_type": "code",
   "execution_count": null,
   "metadata": {
    "colab": {
     "base_uri": "https://localhost:8080/"
    },
    "executionInfo": {
     "elapsed": 30520,
     "status": "ok",
     "timestamp": 1608759686065,
     "user": {
      "displayName": "Gabriela Gresenz",
      "photoUrl": "",
      "userId": "05645304405077482447"
     },
     "user_tz": 300
    },
    "id": "EAqReojVZSk_",
    "outputId": "93c1b592-dbbf-40f0-ea23-d12b72740b13"
   },
   "outputs": [
    {
     "data": {
      "text/plain": [
       "tensor(0.9687)"
      ]
     },
     "execution_count": 18,
     "metadata": {
      "tags": []
     },
     "output_type": "execute_result"
    }
   ],
   "source": [
    "dice_iou(preds, ys)"
   ]
  }
 ],
 "metadata": {
  "accelerator": "GPU",
  "colab": {
   "authorship_tag": "ABX9TyMbdz5ZvQhhZWAVyb8euEkw",
   "collapsed_sections": [
    "CiM96do8ANJY",
    "K5NC-eNbdhjp",
    "j4UIz06sdmfN"
   ],
   "name": "Segmentation_v2.ipynb",
   "provenance": [
    {
     "file_id": "1ymNdtFXnWE-FezYrk_A8cy1EDRA2OL8s",
     "timestamp": 1608745763012
    }
   ]
  },
  "kernelspec": {
   "display_name": "Python 3",
   "language": "python",
   "name": "python3"
  },
  "language_info": {
   "codemirror_mode": {
    "name": "ipython",
    "version": 3
   },
   "file_extension": ".py",
   "mimetype": "text/x-python",
   "name": "python",
   "nbconvert_exporter": "python",
   "pygments_lexer": "ipython3",
   "version": "3.8.5"
  },
  "widgets": {
   "application/vnd.jupyter.widget-state+json": {
    "5b643844b6d349febf7f03b7b66d2176": {
     "model_module": "@jupyter-widgets/controls",
     "model_name": "HBoxModel",
     "state": {
      "_dom_classes": [],
      "_model_module": "@jupyter-widgets/controls",
      "_model_module_version": "1.5.0",
      "_model_name": "HBoxModel",
      "_view_count": null,
      "_view_module": "@jupyter-widgets/controls",
      "_view_module_version": "1.5.0",
      "_view_name": "HBoxView",
      "box_style": "",
      "children": [
       "IPY_MODEL_63eaf743ccf0427f8ced59d274d0e931",
       "IPY_MODEL_db3ebdcae9a04b60a722a85dafc366ca"
      ],
      "layout": "IPY_MODEL_f77a1bf5983740c3b399f2718a2e2a7e"
     }
    },
    "5f4e15c0e2544132b5f4bf768968c940": {
     "model_module": "@jupyter-widgets/base",
     "model_name": "LayoutModel",
     "state": {
      "_model_module": "@jupyter-widgets/base",
      "_model_module_version": "1.2.0",
      "_model_name": "LayoutModel",
      "_view_count": null,
      "_view_module": "@jupyter-widgets/base",
      "_view_module_version": "1.2.0",
      "_view_name": "LayoutView",
      "align_content": null,
      "align_items": null,
      "align_self": null,
      "border": null,
      "bottom": null,
      "display": null,
      "flex": null,
      "flex_flow": null,
      "grid_area": null,
      "grid_auto_columns": null,
      "grid_auto_flow": null,
      "grid_auto_rows": null,
      "grid_column": null,
      "grid_gap": null,
      "grid_row": null,
      "grid_template_areas": null,
      "grid_template_columns": null,
      "grid_template_rows": null,
      "height": null,
      "justify_content": null,
      "justify_items": null,
      "left": null,
      "margin": null,
      "max_height": null,
      "max_width": null,
      "min_height": null,
      "min_width": null,
      "object_fit": null,
      "object_position": null,
      "order": null,
      "overflow": null,
      "overflow_x": null,
      "overflow_y": null,
      "padding": null,
      "right": null,
      "top": null,
      "visibility": null,
      "width": null
     }
    },
    "63eaf743ccf0427f8ced59d274d0e931": {
     "model_module": "@jupyter-widgets/controls",
     "model_name": "FloatProgressModel",
     "state": {
      "_dom_classes": [],
      "_model_module": "@jupyter-widgets/controls",
      "_model_module_version": "1.5.0",
      "_model_name": "FloatProgressModel",
      "_view_count": null,
      "_view_module": "@jupyter-widgets/controls",
      "_view_module_version": "1.5.0",
      "_view_name": "ProgressView",
      "bar_style": "success",
      "description": "100%",
      "description_tooltip": null,
      "layout": "IPY_MODEL_7ea722da14644633951097ad3eee8a63",
      "max": 87306240,
      "min": 0,
      "orientation": "horizontal",
      "style": "IPY_MODEL_953ea7d75dd84e0586958761f25ab667",
      "value": 87306240
     }
    },
    "7ea722da14644633951097ad3eee8a63": {
     "model_module": "@jupyter-widgets/base",
     "model_name": "LayoutModel",
     "state": {
      "_model_module": "@jupyter-widgets/base",
      "_model_module_version": "1.2.0",
      "_model_name": "LayoutModel",
      "_view_count": null,
      "_view_module": "@jupyter-widgets/base",
      "_view_module_version": "1.2.0",
      "_view_name": "LayoutView",
      "align_content": null,
      "align_items": null,
      "align_self": null,
      "border": null,
      "bottom": null,
      "display": null,
      "flex": null,
      "flex_flow": null,
      "grid_area": null,
      "grid_auto_columns": null,
      "grid_auto_flow": null,
      "grid_auto_rows": null,
      "grid_column": null,
      "grid_gap": null,
      "grid_row": null,
      "grid_template_areas": null,
      "grid_template_columns": null,
      "grid_template_rows": null,
      "height": null,
      "justify_content": null,
      "justify_items": null,
      "left": null,
      "margin": null,
      "max_height": null,
      "max_width": null,
      "min_height": null,
      "min_width": null,
      "object_fit": null,
      "object_position": null,
      "order": null,
      "overflow": null,
      "overflow_x": null,
      "overflow_y": null,
      "padding": null,
      "right": null,
      "top": null,
      "visibility": null,
      "width": null
     }
    },
    "953ea7d75dd84e0586958761f25ab667": {
     "model_module": "@jupyter-widgets/controls",
     "model_name": "ProgressStyleModel",
     "state": {
      "_model_module": "@jupyter-widgets/controls",
      "_model_module_version": "1.5.0",
      "_model_name": "ProgressStyleModel",
      "_view_count": null,
      "_view_module": "@jupyter-widgets/base",
      "_view_module_version": "1.2.0",
      "_view_name": "StyleView",
      "bar_color": null,
      "description_width": "initial"
     }
    },
    "cfd66c80450e4544988c5f4bbc84045b": {
     "model_module": "@jupyter-widgets/controls",
     "model_name": "DescriptionStyleModel",
     "state": {
      "_model_module": "@jupyter-widgets/controls",
      "_model_module_version": "1.5.0",
      "_model_name": "DescriptionStyleModel",
      "_view_count": null,
      "_view_module": "@jupyter-widgets/base",
      "_view_module_version": "1.2.0",
      "_view_name": "StyleView",
      "description_width": ""
     }
    },
    "db3ebdcae9a04b60a722a85dafc366ca": {
     "model_module": "@jupyter-widgets/controls",
     "model_name": "HTMLModel",
     "state": {
      "_dom_classes": [],
      "_model_module": "@jupyter-widgets/controls",
      "_model_module_version": "1.5.0",
      "_model_name": "HTMLModel",
      "_view_count": null,
      "_view_module": "@jupyter-widgets/controls",
      "_view_module_version": "1.5.0",
      "_view_name": "HTMLView",
      "description": "",
      "description_tooltip": null,
      "layout": "IPY_MODEL_5f4e15c0e2544132b5f4bf768968c940",
      "placeholder": "​",
      "style": "IPY_MODEL_cfd66c80450e4544988c5f4bbc84045b",
      "value": " 83.3M/83.3M [00:44&lt;00:00, 1.98MB/s]"
     }
    },
    "f77a1bf5983740c3b399f2718a2e2a7e": {
     "model_module": "@jupyter-widgets/base",
     "model_name": "LayoutModel",
     "state": {
      "_model_module": "@jupyter-widgets/base",
      "_model_module_version": "1.2.0",
      "_model_name": "LayoutModel",
      "_view_count": null,
      "_view_module": "@jupyter-widgets/base",
      "_view_module_version": "1.2.0",
      "_view_name": "LayoutView",
      "align_content": null,
      "align_items": null,
      "align_self": null,
      "border": null,
      "bottom": null,
      "display": null,
      "flex": null,
      "flex_flow": null,
      "grid_area": null,
      "grid_auto_columns": null,
      "grid_auto_flow": null,
      "grid_auto_rows": null,
      "grid_column": null,
      "grid_gap": null,
      "grid_row": null,
      "grid_template_areas": null,
      "grid_template_columns": null,
      "grid_template_rows": null,
      "height": null,
      "justify_content": null,
      "justify_items": null,
      "left": null,
      "margin": null,
      "max_height": null,
      "max_width": null,
      "min_height": null,
      "min_width": null,
      "object_fit": null,
      "object_position": null,
      "order": null,
      "overflow": null,
      "overflow_x": null,
      "overflow_y": null,
      "padding": null,
      "right": null,
      "top": null,
      "visibility": null,
      "width": null
     }
    }
   }
  }
 },
 "nbformat": 4,
 "nbformat_minor": 1
}
