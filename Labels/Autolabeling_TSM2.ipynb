{
 "cells": [
  {
   "cell_type": "markdown",
   "metadata": {
    "id": "qQjAghOc4Com"
   },
   "source": [
    "# Auto-labeling script for TSM 2"
   ]
  },
  {
   "cell_type": "markdown",
   "metadata": {
    "id": "nwr-f6L1c_G9"
   },
   "source": [
    "All bounds checking and filtering of images is done in ValidImages_TSM2.ipynb."
   ]
  },
  {
   "cell_type": "markdown",
   "metadata": {
    "id": "xS58in4R4Ez-"
   },
   "source": [
    "## Set-up"
   ]
  },
  {
   "cell_type": "code",
   "execution_count": 1,
   "metadata": {
    "colab": {
     "base_uri": "https://localhost:8080/"
    },
    "executionInfo": {
     "elapsed": 35550,
     "status": "ok",
     "timestamp": 1609011305211,
     "user": {
      "displayName": "Gabriela Gresenz",
      "photoUrl": "",
      "userId": "05645304405077482447"
     },
     "user_tz": 300
    },
    "id": "OysOcKVS3-2i",
    "outputId": "a1fb03f7-e929-4137-abea-3cb2680a8b6e"
   },
   "outputs": [
    {
     "name": "stdout",
     "output_type": "stream",
     "text": [
      "Mounted at /gdrive\n"
     ]
    }
   ],
   "source": [
    "from google.colab import drive\n",
    "drive.mount('/gdrive')"
   ]
  },
  {
   "cell_type": "code",
   "execution_count": 2,
   "metadata": {
    "executionInfo": {
     "elapsed": 36338,
     "status": "ok",
     "timestamp": 1609011306011,
     "user": {
      "displayName": "Gabriela Gresenz",
      "photoUrl": "",
      "userId": "05645304405077482447"
     },
     "user_tz": 300
    },
    "id": "DatgAU7V4gBX"
   },
   "outputs": [],
   "source": [
    "import pandas as pd\n",
    "import numpy as np\n",
    "import seaborn as sns\n",
    "import os\n",
    "import matplotlib.pyplot as plt\n",
    "from collections import namedtuple\n",
    "import csv\n",
    "import re"
   ]
  },
  {
   "cell_type": "markdown",
   "metadata": {
    "id": "2Mg3jS5o4LOK"
   },
   "source": [
    "## Helper functions"
   ]
  },
  {
   "cell_type": "code",
   "execution_count": 3,
   "metadata": {
    "executionInfo": {
     "elapsed": 36336,
     "status": "ok",
     "timestamp": 1609011306012,
     "user": {
      "displayName": "Gabriela Gresenz",
      "photoUrl": "",
      "userId": "05645304405077482447"
     },
     "user_tz": 300
    },
    "id": "czWGp_-RJELt"
   },
   "outputs": [],
   "source": [
    "# Difference in ms between t1 and t2\n",
    "# Negative if s1 is before s2, positive if s2 is before s1\n",
    "def findDifferenceMs(s1, ms1, s2, ms2):\n",
    "  if (s1 > s2):\n",
    "      return (s1-s2-1)*1000 + (1000-ms2) + ms1\n",
    "  elif (s1 < s2):\n",
    "      return -((s2-s1-1)*1000 + (1000-ms1) + ms2)\n",
    "  else:\n",
    "      return ms1-ms2\n",
    "\n",
    "# Parse s and ms from image name in format XsYms\n",
    "def parse_times(name):\n",
    "  lhs, rhs = name.split(\"s\", 1)\n",
    "  rhs, ignore = rhs.split(\"ms\", 1);\n",
    "  return int(lhs), int(rhs)"
   ]
  },
  {
   "cell_type": "code",
   "execution_count": 4,
   "metadata": {
    "executionInfo": {
     "elapsed": 36334,
     "status": "ok",
     "timestamp": 1609011306013,
     "user": {
      "displayName": "Gabriela Gresenz",
      "photoUrl": "",
      "userId": "05645304405077482447"
     },
     "user_tz": 300
    },
    "id": "mjaj8WhkUXgm"
   },
   "outputs": [],
   "source": [
    "# Closest reading exactly at or after a given timestamp\n",
    "def closest_and_after(rough_df, t1_s, t1_ms):\n",
    "  filtered = rough_df[rough_df['utc_s'] >= t1_s]\n",
    "\n",
    "  for _, row in filtered.iterrows():\n",
    "    if findDifferenceMs(t1_s, t1_ms, row['utc_s'], row['utc_ms'] >= 0):\n",
    "      return row['roughness_group_2'], row['roughness_group_3'], row['roughness_group_4'], row['roughness_group_original']\n",
    "  \n",
    "  return -1, -1, -1, -1"
   ]
  },
  {
   "cell_type": "markdown",
   "metadata": {
    "id": "w4kbU67344Rp"
   },
   "source": [
    "## Auto-labeling"
   ]
  },
  {
   "cell_type": "markdown",
   "metadata": {
    "id": "oSJXrSWtCwF9"
   },
   "source": [
    "#### Dictionary with CSV directories for each video"
   ]
  },
  {
   "cell_type": "markdown",
   "metadata": {
    "id": "IMuXgW1U83Lu"
   },
   "source": [
    "`CSVDirs` is a `namedtuple` holding the Virb and Garmin CSV files for each folder of images.\n",
    "\n",
    "`csv_path` returns a `namedtuple CSVDirs` with the path to the Virb and Garmin files for a given folder of iamges.\n",
    "\n",
    "`video_csvs` is a dictionary mapping each folder of iamges to the corresponding `CSVDirs`. To access the Virb or Garmin files for a video:\n",
    "\n",
    "- `video_csvs[video_name].virb_dir`\n",
    "- `video_csvs[video_name].garmin_dir`"
   ]
  },
  {
   "cell_type": "code",
   "execution_count": 5,
   "metadata": {
    "executionInfo": {
     "elapsed": 36331,
     "status": "ok",
     "timestamp": 1609011306013,
     "user": {
      "displayName": "Gabriela Gresenz",
      "photoUrl": "",
      "userId": "05645304405077482447"
     },
     "user_tz": 300
    },
    "id": "Kd0s7bqp9Il8"
   },
   "outputs": [],
   "source": [
    "CSVDirs = namedtuple('CSVDirs', ['virb_dir', 'garmin_dir'])\n",
    "\n",
    "def csv_path(folder):\n",
    "  root_csv_dir = '/gdrive/My Drive/Labeling/SensorData'\n",
    "  virb_dir = os.path.join(root_csv_dir, 'Virb', folder)\n",
    "  garmin_dir = os.path.join(root_csv_dir, 'Garmin', folder + '-garmin')\n",
    "  return CSVDirs(virb_dir, garmin_dir)\n",
    "\n",
    "video_csvs = {\n",
    "    \"2020-07-28-06-01-11\": csv_path('2020-07-28-06-01-11'),\n",
    "    \"2020-09-23-VIRB0001\": csv_path('2020-09-23-16-10-10'),\n",
    "    \"2020-09-23-VIRB0002\": csv_path('2020-09-23-16-10-10'),\n",
    "    \"2020-09-23-VIRB0004\": csv_path('2020-09-23-16-10-10'),\n",
    "    \"2020-09-23-VIRB0008\": csv_path('2020-09-23-16-10-10'),\n",
    "    \"2020-09-24-1\": csv_path('2020-09-24-12-07-41'),\n",
    "    \"2020-09-24-2\": csv_path('2020-09-24-12-07-41'),\n",
    "    \"2020-09-24-3\": csv_path('2020-09-24-12-07-41'),\n",
    "    \"2020-09-24-4\": csv_path('2020-09-24-12-07-41'),\n",
    "    \"2020-09-29-09-46-42-1\": csv_path('2020-09-29-09-46-42'),\n",
    "    \"2020-09-29-09-46-42-2\": csv_path('2020-09-29-09-46-42'),\n",
    "    \"2020-09-29-09-46-42-3\": csv_path('2020-09-29-09-46-42'),\n",
    "    \"2020-09-29-09-46-42-4\": csv_path('2020-09-29-09-46-42'),\n",
    "    \"2020-10-02-10-17-05-1\": csv_path('2020-10-02-10-17-05'),\n",
    "    \"2020-10-02-10-17-05-2\": csv_path('2020-10-02-10-17-05'),\n",
    "    \"2020-10-02-10-17-05-3\": csv_path('2020-10-02-10-17-05'),\n",
    "}"
   ]
  },
  {
   "cell_type": "markdown",
   "metadata": {
    "id": "tgevrkLKOzbw"
   },
   "source": [
    "#### Label images"
   ]
  },
  {
   "cell_type": "code",
   "execution_count": 6,
   "metadata": {
    "executionInfo": {
     "elapsed": 841,
     "status": "ok",
     "timestamp": 1609011306858,
     "user": {
      "displayName": "Gabriela Gresenz",
      "photoUrl": "",
      "userId": "05645304405077482447"
     },
     "user_tz": 300
    },
    "id": "gwm7tbJ8RqMM"
   },
   "outputs": [],
   "source": [
    "# Label all images in Labeling/VideoData/RealVideoSplit/VideoFrames\n",
    "def label():\n",
    "\n",
    "  valid_images_per_video = {}\n",
    "\n",
    "  col_videos = []\n",
    "  col_images = []\n",
    "  col_groups_2 = []\n",
    "  col_groups_3 = []\n",
    "  col_groups_4 = []\n",
    "  col_groups_original = []\n",
    "\n",
    "  frame_directory = '/gdrive/My Drive/Labeling/VideoData/RealVideoSplit/VideoFrames'\n",
    "  for root, dirs, files in os.walk(frame_directory):\n",
    "    if root == '/gdrive/My Drive/Labeling/VideoData/RealVideoSplit/VideoFrames':\n",
    "      for dir in dirs:\n",
    "        if dir in video_csvs:\n",
    "          virb_dir = video_csvs[dir].virb_dir\n",
    "          garmin_dir = video_csvs[dir].garmin_dir\n",
    "          v, i, g2, g3, g4, g = label_images_in_folder(os.path.join(root, dir), virb_dir, garmin_dir)\n",
    "          col_videos.extend(v)\n",
    "          col_images.extend(i)\n",
    "          col_groups_2.extend(g2)\n",
    "          col_groups_3.extend(g3)\n",
    "          col_groups_4.extend(g4)\n",
    "          col_groups_original.extend(g)\n",
    "          valid_images_per_video[dir] = len(i)\n",
    "  \n",
    "  labels = pd.DataFrame()\n",
    "  labels['video'] = col_videos\n",
    "  labels['image'] = col_images\n",
    "  labels['group_2'] = col_groups_2\n",
    "  labels['group_3'] = col_groups_3\n",
    "  labels['group_4'] = col_groups_4\n",
    "  labels['group_original'] = col_groups_original\n",
    "  \n",
    "  labels.to_csv('/gdrive/My Drive/Labeling/LabelsCSV/all_labels_metric_2.csv', index=False)\n",
    "\n",
    "  return valid_images_per_video, labels"
   ]
  },
  {
   "cell_type": "code",
   "execution_count": 7,
   "metadata": {
    "executionInfo": {
     "elapsed": 639,
     "status": "ok",
     "timestamp": 1609011306859,
     "user": {
      "displayName": "Gabriela Gresenz",
      "photoUrl": "",
      "userId": "05645304405077482447"
     },
     "user_tz": 300
    },
    "id": "eJnDwcUspUui"
   },
   "outputs": [],
   "source": [
    "# Return lists with the video name, image name, and roughness group for all \n",
    "# images in the folder\n",
    "def label_images_in_folder(folder_dir, virb_dir, garmin_dir):\n",
    "\n",
    "  v = []\n",
    "  i = []\n",
    "  g2 = []\n",
    "  g3 = []\n",
    "  g4 = []\n",
    "  g = []\n",
    "\n",
    "  folder = os.path.split(folder_dir)[1]\n",
    "  print(\"Labeling images in folder\", folder)\n",
    "\n",
    "  valid_images_df = pd.read_csv(os.path.join('/gdrive/My Drive/Labeling/ValidImages/Metric_2', str(folder + '.csv')))\n",
    "  valid_images_set = set(valid_images_df['images'].unique())\n",
    "\n",
    "  rec_df = pd.read_csv(os.path.join(garmin_dir, \"record.csv\"), index_col=0)\n",
    "  rec_df = rec_df.filter(items=['utc_s (s)', 'utc_ms (ms)', 'distance (m)'])\n",
    "  rough_df = pd.read_csv(os.path.join(virb_dir, \"roughness_metric_2.csv\"), index_col=0)\n",
    "\n",
    "  images = os.listdir(folder_dir)\n",
    "  for image in images:\n",
    "    if not image in valid_images_set:\n",
    "      continue\n",
    "   \n",
    "    group_2, group_3, group_4, group_original = label_image(image, rec_df, rough_df)\n",
    "    v.append(folder)\n",
    "    i.append(image)\n",
    "    g2.append(group_2)\n",
    "    g3.append(group_3)\n",
    "    g4.append(group_4)\n",
    "    g.append(group_original)\n",
    "  \n",
    "  return v, i, g2, g3, g4, g"
   ]
  },
  {
   "cell_type": "code",
   "execution_count": 8,
   "metadata": {
    "executionInfo": {
     "elapsed": 856,
     "status": "ok",
     "timestamp": 1609011311540,
     "user": {
      "displayName": "Gabriela Gresenz",
      "photoUrl": "",
      "userId": "05645304405077482447"
     },
     "user_tz": 300
    },
    "id": "EZeegjlr49RK"
   },
   "outputs": [],
   "source": [
    "# Return the roughness group corresponding to 5 meters ahead of a single image\n",
    "def label_image(image, rec_df, rough_df):\n",
    "  t1_s, t1_ms = parse_times(image)\n",
    "  roughness_2, roughness_3, roughness_4, roughness_original = closest_and_after(rough_df, t1_s, t1_ms)\n",
    "  return roughness_2, roughness_3, roughness_4, roughness_original"
   ]
  },
  {
   "cell_type": "code",
   "execution_count": 9,
   "metadata": {
    "colab": {
     "base_uri": "https://localhost:8080/"
    },
    "executionInfo": {
     "elapsed": 141489,
     "status": "ok",
     "timestamp": 1609011453793,
     "user": {
      "displayName": "Gabriela Gresenz",
      "photoUrl": "",
      "userId": "05645304405077482447"
     },
     "user_tz": 300
    },
    "id": "SkuseyTFR4bY",
    "outputId": "5190e932-d5a7-42df-ae03-1f768db5f6d5"
   },
   "outputs": [
    {
     "name": "stdout",
     "output_type": "stream",
     "text": [
      "Labeling images in folder 2020-09-24-1\n",
      "Labeling images in folder 2020-09-24-2\n",
      "Labeling images in folder 2020-10-02-10-17-05-3\n",
      "Labeling images in folder 2020-10-02-10-17-05-2\n",
      "Labeling images in folder 2020-09-23-VIRB0001\n",
      "Labeling images in folder 2020-09-23-VIRB0002\n",
      "Labeling images in folder 2020-09-23-VIRB0004\n",
      "Labeling images in folder 2020-09-23-VIRB0008\n",
      "Labeling images in folder 2020-09-29-09-46-42-4\n",
      "Labeling images in folder 2020-09-24-3\n",
      "Labeling images in folder 2020-09-24-4\n",
      "Labeling images in folder 2020-07-28-06-01-11\n",
      "Labeling images in folder 2020-09-29-09-46-42-1\n",
      "Labeling images in folder 2020-09-29-09-46-42-2\n",
      "Labeling images in folder 2020-10-02-10-17-05-1\n",
      "Labeling images in folder 2020-09-29-09-46-42-3\n"
     ]
    }
   ],
   "source": [
    "# Label all images\n",
    "valid_images_per_video, labels = label()"
   ]
  },
  {
   "cell_type": "code",
   "execution_count": 10,
   "metadata": {
    "colab": {
     "base_uri": "https://localhost:8080/"
    },
    "executionInfo": {
     "elapsed": 137050,
     "status": "ok",
     "timestamp": 1609011453794,
     "user": {
      "displayName": "Gabriela Gresenz",
      "photoUrl": "",
      "userId": "05645304405077482447"
     },
     "user_tz": 300
    },
    "id": "DASco6iU6aAr",
    "outputId": "41c444c5-01ae-4aea-ba93-5cb5b8d9532c"
   },
   "outputs": [
    {
     "name": "stdout",
     "output_type": "stream",
     "text": [
      "\n",
      "Number of valid images: 12118\n",
      "Valid images per video:\n",
      "   2020-09-24-1 1437\n",
      "   2020-09-24-2 263\n",
      "   2020-10-02-10-17-05-3 517\n",
      "   2020-10-02-10-17-05-2 188\n",
      "   2020-09-23-VIRB0001 78\n",
      "   2020-09-23-VIRB0002 89\n",
      "   2020-09-23-VIRB0004 37\n",
      "   2020-09-23-VIRB0008 77\n",
      "   2020-09-29-09-46-42-4 664\n",
      "   2020-09-24-3 1434\n",
      "   2020-09-24-4 353\n",
      "   2020-07-28-06-01-11 1367\n",
      "   2020-09-29-09-46-42-1 1416\n",
      "   2020-09-29-09-46-42-2 1331\n",
      "   2020-10-02-10-17-05-1 1422\n",
      "   2020-09-29-09-46-42-3 1445\n"
     ]
    }
   ],
   "source": [
    "print(\"\\nNumber of valid images:\", len(labels))\n",
    "print(\"Valid images per video:\")\n",
    "for k in valid_images_per_video:\n",
    "  print(\"  \", k, valid_images_per_video[k])"
   ]
  },
  {
   "cell_type": "code",
   "execution_count": 12,
   "metadata": {
    "colab": {
     "base_uri": "https://localhost:8080/"
    },
    "executionInfo": {
     "elapsed": 786,
     "status": "ok",
     "timestamp": 1609011508865,
     "user": {
      "displayName": "Gabriela Gresenz",
      "photoUrl": "",
      "userId": "05645304405077482447"
     },
     "user_tz": 300
    },
    "id": "k0BIa1yqYDKP",
    "outputId": "0b11ddad-e783-4706-b800-a265ba1f8076"
   },
   "outputs": [
    {
     "name": "stdout",
     "output_type": "stream",
     "text": [
      "K-means roughness metric with k = 2\n",
      "Number of images in group 0 : 9136\n",
      "Number of images in group 1 : 2982\n",
      "\n",
      "K-means roughness metric with k = 3\n",
      "Number of images in group 0 : 6464\n",
      "Number of images in group 1 : 4291\n",
      "Number of images in group 2 : 1363\n",
      "\n",
      "K-means roughness metric with k = 4\n",
      "Number of images in group 0 : 5005\n",
      "Number of images in group 1 : 4394\n",
      "Number of images in group 2 : 2043\n",
      "Number of images in group 3 : 676\n",
      "\n",
      "Original roughness metric\n",
      "Number of images in group 0 : 2381\n",
      "Number of images in group 1 : 4952\n",
      "Number of images in group 2 : 2626\n",
      "Number of images in group 3 : 2159\n",
      "\n"
     ]
    }
   ],
   "source": [
    "for i in range(2, 5):\n",
    "  print('K-means roughness metric with k =', i)\n",
    "  group_str = 'group_' + str(i)\n",
    "  images_per_group = [len(labels[labels[group_str] == j]) for j in range(0,i)]\n",
    "  for j in range(0, i):\n",
    "    print(\"Number of images in group\", j, \":\", images_per_group[j])\n",
    "  print()\n",
    "\n",
    "print('Original roughness metric')\n",
    "images_per_group = [len(labels[labels['group_original'] == j]) for j in range(0, 4)]\n",
    "for j in range(0, 4):\n",
    "  print(\"Number of images in group\", j, \":\", images_per_group[j])\n",
    "print()"
   ]
  },
  {
   "cell_type": "code",
   "execution_count": 13,
   "metadata": {
    "colab": {
     "base_uri": "https://localhost:8080/"
    },
    "executionInfo": {
     "elapsed": 681,
     "status": "ok",
     "timestamp": 1609011542049,
     "user": {
      "displayName": "Gabriela Gresenz",
      "photoUrl": "",
      "userId": "05645304405077482447"
     },
     "user_tz": 300
    },
    "id": "5FSPrr7JYFma",
    "outputId": "50eb1f32-0577-4e29-9225-44c9c866c820"
   },
   "outputs": [
    {
     "name": "stdout",
     "output_type": "stream",
     "text": [
      "Labels for k-means roughness metric with k = 2\n",
      "count    12118.000000\n",
      "mean         0.246080\n",
      "std          0.430744\n",
      "min          0.000000\n",
      "25%          0.000000\n",
      "50%          0.000000\n",
      "75%          0.000000\n",
      "max          1.000000\n",
      "Name: group_2, dtype: float64\n",
      "\n",
      "Labels for k-means roughness metric with k = 3\n",
      "count    12118.000000\n",
      "mean         0.579056\n",
      "std          0.684648\n",
      "min          0.000000\n",
      "25%          0.000000\n",
      "50%          0.000000\n",
      "75%          1.000000\n",
      "max          2.000000\n",
      "Name: group_3, dtype: float64\n",
      "\n",
      "Labels for k-means roughness metric with k = 4\n",
      "count    12118.000000\n",
      "mean         0.867140\n",
      "std          0.887224\n",
      "min          0.000000\n",
      "25%          0.000000\n",
      "50%          1.000000\n",
      "75%          1.000000\n",
      "max          3.000000\n",
      "Name: group_4, dtype: float64\n",
      "\n",
      "Labels for original roughness metric\n",
      "count    12118.000000\n",
      "mean         1.376547\n",
      "std          0.992038\n",
      "min          0.000000\n",
      "25%          1.000000\n",
      "50%          1.000000\n",
      "75%          2.000000\n",
      "max          3.000000\n",
      "Name: group_original, dtype: float64\n"
     ]
    }
   ],
   "source": [
    "for i in range(2, 5):\n",
    "  print('Labels for k-means roughness metric with k =', i)\n",
    "  group_str = 'group_' + str(i)\n",
    "  print(labels[group_str].describe())\n",
    "  print()\n",
    "\n",
    "print('Labels for original roughness metric')\n",
    "print(labels['group_original'].describe())"
   ]
  }
 ],
 "metadata": {
  "colab": {
   "collapsed_sections": [],
   "name": "Autolabeling_2.ipynb",
   "provenance": [
    {
     "file_id": "1Ckw9xb6bIspvrnyEHFRP8Cw2Uv-McRX_",
     "timestamp": 1608769823739
    },
    {
     "file_id": "1I4gs-X-dgIpY81Wu4B4PG2hivfR2DUuw",
     "timestamp": 1606776439190
    }
   ]
  },
  "kernelspec": {
   "display_name": "Python 3",
   "language": "python",
   "name": "python3"
  },
  "language_info": {
   "codemirror_mode": {
    "name": "ipython",
    "version": 3
   },
   "file_extension": ".py",
   "mimetype": "text/x-python",
   "name": "python",
   "nbconvert_exporter": "python",
   "pygments_lexer": "ipython3",
   "version": "3.8.5"
  }
 },
 "nbformat": 4,
 "nbformat_minor": 1
}
