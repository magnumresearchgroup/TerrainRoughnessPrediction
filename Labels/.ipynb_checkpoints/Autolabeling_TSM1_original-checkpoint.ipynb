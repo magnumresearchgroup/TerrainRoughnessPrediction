{
 "cells": [
  {
   "cell_type": "markdown",
   "metadata": {
    "id": "qQjAghOc4Com"
   },
   "source": [
    "# Auto-labeling script for TSM 1 original groups"
   ]
  },
  {
   "cell_type": "markdown",
   "metadata": {
    "id": "nwr-f6L1c_G9"
   },
   "source": [
    "All bounds checking and filtering of images is done in ValidImages_TSM1.ipynb."
   ]
  },
  {
   "cell_type": "markdown",
   "metadata": {
    "id": "xS58in4R4Ez-"
   },
   "source": [
    "## Set-up"
   ]
  },
  {
   "cell_type": "code",
   "execution_count": null,
   "metadata": {
    "colab": {
     "base_uri": "https://localhost:8080/"
    },
    "executionInfo": {
     "elapsed": 22146,
     "status": "ok",
     "timestamp": 1604090740008,
     "user": {
      "displayName": "Gabriela Gresenz",
      "photoUrl": "",
      "userId": "05645304405077482447"
     },
     "user_tz": 300
    },
    "id": "OysOcKVS3-2i",
    "outputId": "116f65e2-ec87-44c2-9577-16f6254133ba"
   },
   "outputs": [
    {
     "name": "stdout",
     "output_type": "stream",
     "text": [
      "Mounted at /gdrive\n"
     ]
    }
   ],
   "source": [
    "from google.colab import drive\n",
    "drive.mount('/gdrive')"
   ]
  },
  {
   "cell_type": "code",
   "execution_count": null,
   "metadata": {
    "id": "DatgAU7V4gBX"
   },
   "outputs": [],
   "source": [
    "import pandas as pd\n",
    "import numpy as np\n",
    "import seaborn as sns\n",
    "import os\n",
    "import matplotlib.pyplot as plt\n",
    "from collections import namedtuple\n",
    "import csv\n",
    "import re"
   ]
  },
  {
   "cell_type": "markdown",
   "metadata": {
    "id": "2Mg3jS5o4LOK"
   },
   "source": [
    "## Helper functions"
   ]
  },
  {
   "cell_type": "code",
   "execution_count": null,
   "metadata": {
    "id": "czWGp_-RJELt"
   },
   "outputs": [],
   "source": [
    "# Difference in ms between t1 and t2\n",
    "# Negative if s1 is before s2, positive if s2 is before s1\n",
    "def findDifferenceMs(s1, ms1, s2, ms2):\n",
    "  if (s1 > s2):\n",
    "      return (s1-s2-1)*1000 + (1000-ms2) + ms1\n",
    "  elif (s1 < s2):\n",
    "      return -((s2-s1-1)*1000 + (1000-ms1) + ms2)\n",
    "  else:\n",
    "      return ms1-ms2\n",
    "\n",
    "# Parse s and ms from image name in format XsYms\n",
    "def parse_times(name):\n",
    "  lhs, rhs = name.split(\"s\", 1)\n",
    "  rhs, ignore = rhs.split(\"ms\", 1);\n",
    "  return int(lhs), int(rhs)"
   ]
  },
  {
   "cell_type": "markdown",
   "metadata": {
    "id": "KwPjA6UbgtaY"
   },
   "source": [
    "#### Closest readings to an input."
   ]
  },
  {
   "cell_type": "code",
   "execution_count": null,
   "metadata": {
    "id": "xuFTIEk1gxts"
   },
   "outputs": [],
   "source": [
    "# Roughness reading closest to time1_s, time1_ms\n",
    "def closest_roughness(rough_df, time1_s, time1_ms):\n",
    "  filtered = rough_df[rough_df['utc_s'] <= time1_s + 1]\n",
    "  filtered = filtered[filtered['utc_s'] >= time1_s - 1]\n",
    "\n",
    "  min_difference = float('inf')\n",
    "  closest_group = -1\n",
    "\n",
    "  for _, row in filtered.iterrows():\n",
    "    current_difference = abs(findDifferenceMs(time1_s, time1_ms, row['utc_s'], row['utc_ms']))\n",
    "    if current_difference < min_difference:\n",
    "      min_difference = current_difference\n",
    "      closest_group = row['roughness_group']\n",
    "    else:\n",
    "      return closest_group\n",
    "  \n",
    "  return closest_group\n",
    "\n",
    "# Index of distance reading closest to and >= target_dist\n",
    "def closest_and_above(target_dist, start_index, rec_df):\n",
    "  index = start_index\n",
    "  while rec_df['distance (m)'].iloc[index] < target_dist and index < len(rec_df) - 1:\n",
    "    index += 1\n",
    "  return index"
   ]
  },
  {
   "cell_type": "markdown",
   "metadata": {
    "id": "o17lKmJYI6lx"
   },
   "source": [
    "#### Calculate target distance `m_ahead` meters ahead of an image."
   ]
  },
  {
   "cell_type": "markdown",
   "metadata": {
    "id": "5RzaKhUseKzE"
   },
   "source": [
    "**Description:** `t1` = (`t1_s1`, `t1_ms`) is the time at which the image occurs, `index1` is the reading most closely corresponding to and before `t1` in `rec_df`. We want to find the distance `m_ahead` meters ahead of the image.\n",
    "- `t0` = (`t0_s`, `t0_ms`) is the timestamp corresponding to `rec_df`[`index1`].\n",
    "- `d1` is the distance at this entry, `d2` is the distance one entry ahead which is >= the image distance.\n",
    "\n",
    "**Solve:**\n",
    "1. Calculate distance elapsed between `d1` and the image using $\\Delta distance = speed * \\Delta time$.\n",
    "  - `s_avg` = `d2` - `d1`, since readings in `record.csv` are one second apart.\n",
    "  - `t_elapsed` = `t1` - `t0`\n",
    "  - `d_elapsed` = `s_avg` * `t_elapsed`.\n",
    "\n",
    "2. Calculate the distance reading corresponding to the image by adding `d_elapsed` to `d1`.\n",
    "\n",
    "3. Calculate the target distance by adding `m_ahead` to `image_distance`.\n"
   ]
  },
  {
   "cell_type": "code",
   "execution_count": null,
   "metadata": {
    "id": "GDUjRLKlJiCW"
   },
   "outputs": [],
   "source": [
    "# t1 is the image time, index1 is the index closest to and before the image\n",
    "def calculate_target_distance(t1_s, t1_ms, index1, m_ahead, rec_df):\n",
    "\n",
    "  # If our image time corresponds exactly to a reading, return m_ahead + the \n",
    "  # distance at this time.\n",
    "  if t1_s == rec_df['utc_s (s)'].iloc[index1] and t1_ms == rec_df['utc_ms (ms)'].iloc[index1]:\n",
    "    return rec_df['distance (m)'].iloc[index1] + m_ahead\n",
    "\n",
    "  # Else, calculate the approximate distance corresponding to the image.\n",
    "  t0_s = rec_df['utc_s (s)'].iloc[index1]\n",
    "  t0_ms = rec_df['utc_ms (ms)'].iloc[index1]\n",
    "  d1 = rec_df['distance (m)'].iloc[index1]\n",
    "  d2 = rec_df['distance (m)'].iloc[index1+1]\n",
    "\n",
    "  avg_s = d2 - d1\n",
    "  t_elapsed = (abs(findDifferenceMs(t0_s, t0_ms, t1_s, t1_ms)) / 1000.)\n",
    "  d_elapsed = avg_s * t_elapsed\n",
    "\n",
    "  image_distance = d_elapsed + d1\n",
    "  target_distance = image_distance + m_ahead\n",
    "\n",
    "  return target_distance"
   ]
  },
  {
   "cell_type": "markdown",
   "metadata": {
    "id": "Jo6O2TQ_icom"
   },
   "source": [
    "#### Calculate `target_time` = (`target_s`, `target_ms`) corresponding to `target_dist`."
   ]
  },
  {
   "cell_type": "markdown",
   "metadata": {
    "id": "oeZTyqLIi943"
   },
   "source": [
    "**Description:** Given `target_dist` and `index2`, the index of `rec_df` with a distance reading most closely corresponding to and after `target_dist`, we want to find the timestamp `target_time` = (`target_s`, `target_ms`) corresponding to `target_dist`.\n",
    "\n",
    "**Solve:**\n",
    "1. Find the window most closely surrounding `target_dist`, [`d1`, `d2`].\n",
    "2. Calculate the time elapsed between `d1` and `target_dist` using\n",
    "$\\Delta time = \\frac{\\Delta distance}{speed}$.\n",
    "3. Find the `target_time` by adding `time_elapsed` to `d1`.\n"
   ]
  },
  {
   "cell_type": "code",
   "execution_count": null,
   "metadata": {
    "id": "D50JmLTIibZ9"
   },
   "outputs": [],
   "source": [
    "def target_time(index2, target_dist, rec_df):\n",
    "  # If the distance reading at index2 == target_dist, return the time at index2.\n",
    "  if rec_df['distance (m)'].iloc[index2] == target_dist:\n",
    "    return rec_df['utc_s (s)'].iloc[index2], rec_df['utc_ms (ms)'].iloc[index2]\n",
    "  \n",
    "  # Else, calculate the timestamp corresponding to the target distance.\n",
    "  s1 = rec_df['utc_s (s)'].iloc[index2-1]\n",
    "  ms1 = rec_df['utc_ms (ms)'].iloc[index2-1]\n",
    "  d1 = rec_df['distance (m)'].iloc[index2-1]\n",
    "  d2 = rec_df['distance (m)'].iloc[index2]\n",
    "\n",
    "  new_target = target_dist - d1\n",
    "  avg_s = d2 - d1\n",
    "  time_elapsed = new_target / avg_s\n",
    "\n",
    "  target_time_s = int(time_elapsed) + s1\n",
    "  target_time_ms = int((time_elapsed - int(time_elapsed)) * 1000.) + ms1\n",
    "  if target_time_ms >= 1000:\n",
    "    target_time_s += 1\n",
    "    target_time_ms %= 1000\n",
    "  \n",
    "  return target_time_s, target_time_ms"
   ]
  },
  {
   "cell_type": "markdown",
   "metadata": {
    "id": "w4kbU67344Rp"
   },
   "source": [
    "## Auto-labeling"
   ]
  },
  {
   "cell_type": "markdown",
   "metadata": {
    "id": "oSJXrSWtCwF9"
   },
   "source": [
    "#### Dictionary with CSV directories for each video"
   ]
  },
  {
   "cell_type": "markdown",
   "metadata": {
    "id": "IMuXgW1U83Lu"
   },
   "source": [
    "`CSVDirs` is a `namedtuple` holding the Virb and Garmin CSV files for each folder of images.\n",
    "\n",
    "`csv_path` returns a `namedtuple CSVDirs` with the path to the Virb and Garmin files for a given folder of iamges.\n",
    "\n",
    "`video_csvs` is a dictionary mapping each folder of iamges to the corresponding `CSVDirs`. To access the Virb or Garmin files for a video:\n",
    "\n",
    "- `video_csvs[video_name].virb_dir`\n",
    "- `video_csvs[video_name].garmin_dir`"
   ]
  },
  {
   "cell_type": "code",
   "execution_count": null,
   "metadata": {
    "id": "Kd0s7bqp9Il8"
   },
   "outputs": [],
   "source": [
    "CSVDirs = namedtuple('CSVDirs', ['virb_dir', 'garmin_dir'])\n",
    "\n",
    "def csv_path(folder):\n",
    "  root_csv_dir = '/gdrive/My Drive/Labeling/SensorData'\n",
    "  virb_dir = os.path.join(root_csv_dir, 'Virb', folder)\n",
    "  garmin_dir = os.path.join(root_csv_dir, 'Garmin', folder + '-garmin')\n",
    "  return CSVDirs(virb_dir, garmin_dir)\n",
    "\n",
    "video_csvs = {\n",
    "    \"2020-07-28-06-01-11\": csv_path('2020-07-28-06-01-11'),\n",
    "    \"2020-09-23-VIRB0001\": csv_path('2020-09-23-16-10-10'),\n",
    "    \"2020-09-23-VIRB0002\": csv_path('2020-09-23-16-10-10'),\n",
    "    \"2020-09-23-VIRB0004\": csv_path('2020-09-23-16-10-10'),\n",
    "    \"2020-09-23-VIRB0008\": csv_path('2020-09-23-16-10-10'),\n",
    "    \"2020-09-24-1\": csv_path('2020-09-24-12-07-41'),\n",
    "    \"2020-09-24-2\": csv_path('2020-09-24-12-07-41'),\n",
    "    \"2020-09-24-3\": csv_path('2020-09-24-12-07-41'),\n",
    "    \"2020-09-24-4\": csv_path('2020-09-24-12-07-41'),\n",
    "    \"2020-09-29-09-46-42-1\": csv_path('2020-09-29-09-46-42'),\n",
    "    \"2020-09-29-09-46-42-2\": csv_path('2020-09-29-09-46-42'),\n",
    "    \"2020-09-29-09-46-42-3\": csv_path('2020-09-29-09-46-42'),\n",
    "    \"2020-09-29-09-46-42-4\": csv_path('2020-09-29-09-46-42'),\n",
    "    \"2020-10-02-10-17-05-1\": csv_path('2020-10-02-10-17-05'),\n",
    "    \"2020-10-02-10-17-05-2\": csv_path('2020-10-02-10-17-05'),\n",
    "    \"2020-10-02-10-17-05-3\": csv_path('2020-10-02-10-17-05'),\n",
    "}"
   ]
  },
  {
   "cell_type": "markdown",
   "metadata": {
    "id": "tgevrkLKOzbw"
   },
   "source": [
    "#### Label images"
   ]
  },
  {
   "cell_type": "code",
   "execution_count": null,
   "metadata": {
    "id": "gwm7tbJ8RqMM"
   },
   "outputs": [],
   "source": [
    "# Label all images in Labeling/VideoData/RealVideoSplit/VideoFrames\n",
    "def label():\n",
    "\n",
    "  valid_images_per_video = {}\n",
    "\n",
    "  col_videos = []\n",
    "  col_images = []\n",
    "  col_groups = []\n",
    "\n",
    "  frame_directory = '/gdrive/My Drive/Labeling/VideoData/RealVideoSplit/VideoFrames'\n",
    "  for root, dirs, files in os.walk(frame_directory):\n",
    "    if root == '/gdrive/My Drive/Labeling/VideoData/RealVideoSplit/VideoFrames':\n",
    "      for dir in dirs:\n",
    "        if dir in video_csvs:\n",
    "          virb_dir = video_csvs[dir].virb_dir\n",
    "          garmin_dir = video_csvs[dir].garmin_dir\n",
    "          v, i, g = label_images_in_folder(os.path.join(root, dir), virb_dir, garmin_dir)\n",
    "          col_videos.extend(v)\n",
    "          col_images.extend(i)\n",
    "          col_groups.extend(g)\n",
    "          valid_images_per_video[dir] = len(i)\n",
    "  \n",
    "  labels = pd.DataFrame()\n",
    "  labels['video'] = col_videos\n",
    "  labels['image'] = col_images\n",
    "  labels['group'] = col_groups\n",
    "  \n",
    "  labels.to_csv('/gdrive/My Drive/Labeling/labels.csv', index=False)\n",
    "\n",
    "  return valid_images_per_video, labels"
   ]
  },
  {
   "cell_type": "code",
   "execution_count": null,
   "metadata": {
    "id": "eJnDwcUspUui"
   },
   "outputs": [],
   "source": [
    "# Return lists with the video name, image name, and roughness group for all \n",
    "# images in the folder\n",
    "def label_images_in_folder(folder_dir, virb_dir, garmin_dir):\n",
    "\n",
    "  v = []\n",
    "  i = []\n",
    "  g = []\n",
    "\n",
    "  folder = os.path.split(folder_dir)[1]\n",
    "  print(\"Labeling images in folder\", folder)\n",
    "\n",
    "  valid_images_df = pd.read_csv(os.path.join('/gdrive/My Drive/Labeling/ValidImages', str(folder + '.csv')))\n",
    "  valid_images_set = set(valid_images_df['images'].unique())\n",
    "\n",
    "  rec_df = pd.read_csv(os.path.join(garmin_dir, \"record.csv\"), index_col=0)\n",
    "  rec_df = rec_df.filter(items=['utc_s (s)', 'utc_ms (ms)', 'distance (m)'])\n",
    "  rough_df = pd.read_csv(os.path.join(virb_dir, \"roughness_metric.csv\"), index_col=0)\n",
    "\n",
    "  images = os.listdir(folder_dir)\n",
    "  for image in images:\n",
    "    if not image in valid_images_set:\n",
    "      continue\n",
    "   \n",
    "    group = label_image(image, rec_df, rough_df)\n",
    "    v.append(folder)\n",
    "    i.append(image)\n",
    "    g.append(group)\n",
    "  \n",
    "  return v, i, g"
   ]
  },
  {
   "cell_type": "code",
   "execution_count": null,
   "metadata": {
    "id": "EZeegjlr49RK"
   },
   "outputs": [],
   "source": [
    "# Return the roughness group corresponding to 5 meters ahead of a single image\n",
    "def label_image(image, rec_df, rough_df):\n",
    "  meters_ahead = 5\n",
    "  t1_s, t1_ms = parse_times(image)\n",
    "\n",
    "  # Garmin record.csv readings are always on X s, 0 ms\n",
    "  before_row = rec_df[rec_df['utc_s (s)'] == t1_s]\n",
    "  index1 = before_row.index.values[0]\n",
    "  target_dist = calculate_target_distance(t1_s, t1_ms, index1, meters_ahead, rec_df)\n",
    "\n",
    "  index2 = closest_and_above(target_dist, index1, rec_df)\n",
    "  target_s, target_ms = target_time(index2, target_dist, rec_df)\n",
    "\n",
    "  roughness = closest_roughness(rough_df, target_s, target_ms)\n",
    "  return roughness"
   ]
  },
  {
   "cell_type": "code",
   "execution_count": null,
   "metadata": {
    "colab": {
     "base_uri": "https://localhost:8080/"
    },
    "executionInfo": {
     "elapsed": 233525,
     "status": "ok",
     "timestamp": 1604090951463,
     "user": {
      "displayName": "Gabriela Gresenz",
      "photoUrl": "",
      "userId": "05645304405077482447"
     },
     "user_tz": 300
    },
    "id": "SkuseyTFR4bY",
    "outputId": "d1036653-fc36-4a3c-cc9a-2a726dbe5c23"
   },
   "outputs": [
    {
     "name": "stdout",
     "output_type": "stream",
     "text": [
      "Labeling images in folder 2020-09-24-1\n",
      "Labeling images in folder 2020-09-24-2\n",
      "Labeling images in folder 2020-10-02-10-17-05-3\n",
      "Labeling images in folder 2020-10-02-10-17-05-2\n",
      "Labeling images in folder 2020-09-23-VIRB0001\n",
      "Labeling images in folder 2020-09-23-VIRB0002\n",
      "Labeling images in folder 2020-09-23-VIRB0004\n",
      "Labeling images in folder 2020-09-23-VIRB0008\n",
      "Labeling images in folder 2020-09-29-09-46-42-4\n",
      "Labeling images in folder 2020-09-24-3\n",
      "Labeling images in folder 2020-09-24-4\n",
      "Labeling images in folder 2020-07-28-06-01-11\n",
      "Labeling images in folder 2020-09-29-09-46-42-1\n",
      "Labeling images in folder 2020-09-29-09-46-42-2\n",
      "Labeling images in folder 2020-10-02-10-17-05-1\n",
      "Labeling images in folder 2020-09-29-09-46-42-3\n"
     ]
    }
   ],
   "source": [
    "# Label all images\n",
    "valid_images_per_video, labels = label()"
   ]
  },
  {
   "cell_type": "code",
   "execution_count": null,
   "metadata": {
    "colab": {
     "base_uri": "https://localhost:8080/"
    },
    "executionInfo": {
     "elapsed": 233517,
     "status": "ok",
     "timestamp": 1604090951468,
     "user": {
      "displayName": "Gabriela Gresenz",
      "photoUrl": "",
      "userId": "05645304405077482447"
     },
     "user_tz": 300
    },
    "id": "DASco6iU6aAr",
    "outputId": "878c417e-b78e-4d14-d83f-6348dc0f3b06"
   },
   "outputs": [
    {
     "name": "stdout",
     "output_type": "stream",
     "text": [
      "\n",
      "Number of valid images: 8982\n",
      "Valid images per video:\n",
      "   2020-09-24-1 1434\n",
      "   2020-09-24-2 250\n",
      "   2020-10-02-10-17-05-3 515\n",
      "   2020-10-02-10-17-05-2 0\n",
      "   2020-09-23-VIRB0001 0\n",
      "   2020-09-23-VIRB0002 0\n",
      "   2020-09-23-VIRB0004 37\n",
      "   2020-09-23-VIRB0008 79\n",
      "   2020-09-29-09-46-42-4 659\n",
      "   2020-09-24-3 1405\n",
      "   2020-09-24-4 352\n",
      "   2020-07-28-06-01-11 1262\n",
      "   2020-09-29-09-46-42-1 1173\n",
      "   2020-09-29-09-46-42-2 383\n",
      "   2020-10-02-10-17-05-1 0\n",
      "   2020-09-29-09-46-42-3 1433\n",
      "\n",
      "Number of images in group 0 : 1569\n",
      "Number of images in group 1 : 3678\n",
      "Number of images in group 2 : 2066\n",
      "Number of images in group 3 : 1669\n",
      "\n",
      "count    8982.000000\n",
      "mean        1.426965\n",
      "std         0.982736\n",
      "min         0.000000\n",
      "25%         1.000000\n",
      "50%         1.000000\n",
      "75%         2.000000\n",
      "max         3.000000\n",
      "Name: group, dtype: float64\n"
     ]
    }
   ],
   "source": [
    "print(\"\\nNumber of valid images:\", len(labels))\n",
    "print(\"Valid images per video:\")\n",
    "for k in valid_images_per_video:\n",
    "  print(\"  \", k, valid_images_per_video[k])\n",
    "\n",
    "print()\n",
    "images_per_group = [len(labels[labels['group'] == i]) for i in range(0,4)]\n",
    "for i in range(0, 4):\n",
    "  print(\"Number of images in group\", i, \":\", images_per_group[i])\n",
    "\n",
    "print()\n",
    "print(labels['group'].describe())"
   ]
  }
 ],
 "metadata": {
  "colab": {
   "collapsed_sections": [
    "xS58in4R4Ez-",
    "2Mg3jS5o4LOK",
    "KwPjA6UbgtaY",
    "o17lKmJYI6lx",
    "Jo6O2TQ_icom"
   ],
   "name": "Autolabeling.ipynb",
   "provenance": []
  },
  "kernelspec": {
   "display_name": "Python 3",
   "language": "python",
   "name": "python3"
  },
  "language_info": {
   "codemirror_mode": {
    "name": "ipython",
    "version": 3
   },
   "file_extension": ".py",
   "mimetype": "text/x-python",
   "name": "python",
   "nbconvert_exporter": "python",
   "pygments_lexer": "ipython3",
   "version": "3.8.5"
  }
 },
 "nbformat": 4,
 "nbformat_minor": 1
}
